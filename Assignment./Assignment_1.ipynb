{
 "cells": [
  {
   "cell_type": "code",
   "execution_count": 1,
   "id": "7e17db92",
   "metadata": {},
   "outputs": [
    {
     "name": "stdout",
     "output_type": "stream",
     "text": [
      "15\n"
     ]
    }
   ],
   "source": [
    "# 1.\n",
    "\n",
    "def func(a,b):\n",
    "    return b if a==0 else func(b % a,a)\n",
    "print(func(30,75))"
   ]
  },
  {
   "cell_type": "code",
   "execution_count": 2,
   "id": "98cd6476",
   "metadata": {},
   "outputs": [
    {
     "name": "stdout",
     "output_type": "stream",
     "text": [
      "<class 'filter'>\n"
     ]
    }
   ],
   "source": [
    "# 2.\n",
    "\n",
    "number = (4,7,19,2,89,45,72,22)\n",
    "sorted_number = sorted(number)\n",
    "even = lambda a:a%2==0\n",
    "even_number = filter(even,sorted_number)\n",
    "print(type(even_number))"
   ]
  },
  {
   "cell_type": "code",
   "execution_count": 3,
   "id": "3ceb75eb",
   "metadata": {},
   "outputs": [
    {
     "name": "stdout",
     "output_type": "stream",
     "text": [
      "tuple\n"
     ]
    }
   ],
   "source": [
    "# 3\n",
    "print(\"tuple\")"
   ]
  },
  {
   "cell_type": "code",
   "execution_count": 4,
   "id": "380d9863",
   "metadata": {},
   "outputs": [
    {
     "ename": "TypeError",
     "evalue": "unsupported operand type(s) for +: 'set' and 'set'",
     "output_type": "error",
     "traceback": [
      "\u001b[1;31m---------------------------------------------------------------------------\u001b[0m",
      "\u001b[1;31mTypeError\u001b[0m                                 Traceback (most recent call last)",
      "Cell \u001b[1;32mIn[4], line 7\u001b[0m\n\u001b[0;32m      4\u001b[0m set2 \u001b[38;5;241m=\u001b[39m {\u001b[38;5;241m82\u001b[39m,\u001b[38;5;241m49\u001b[39m,\u001b[38;5;241m62\u001b[39m}\n\u001b[0;32m      5\u001b[0m set3 \u001b[38;5;241m=\u001b[39m {\u001b[38;5;241m99\u001b[39m,\u001b[38;5;241m22\u001b[39m,\u001b[38;5;241m17\u001b[39m}\n\u001b[1;32m----> 7\u001b[0m \u001b[38;5;28mprint\u001b[39m(\u001b[38;5;28mlen\u001b[39m(set1\u001b[38;5;241m+\u001b[39mset2\u001b[38;5;241m+\u001b[39mset3))\n",
      "\u001b[1;31mTypeError\u001b[0m: unsupported operand type(s) for +: 'set' and 'set'"
     ]
    }
   ],
   "source": [
    "# 4.\n",
    " \n",
    "set1 = {14,3,55}\n",
    "set2 = {82,49,62}\n",
    "set3 = {99,22,17}\n",
    "\n",
    "print(len(set1+set2+set3))"
   ]
  },
  {
   "cell_type": "code",
   "execution_count": 5,
   "id": "1ede32b1",
   "metadata": {},
   "outputs": [
    {
     "name": "stdout",
     "output_type": "stream",
     "text": [
      "raise\n"
     ]
    }
   ],
   "source": [
    "# 5.\n",
    "print('raise')"
   ]
  },
  {
   "cell_type": "code",
   "execution_count": 6,
   "id": "2611d6a0",
   "metadata": {},
   "outputs": [
    {
     "name": "stdout",
     "output_type": "stream",
     "text": [
      " datetime\n"
     ]
    }
   ],
   "source": [
    "# 6.\n",
    "print(' datetime')"
   ]
  },
  {
   "cell_type": "code",
   "execution_count": 7,
   "id": "d06b89e6",
   "metadata": {},
   "outputs": [
    {
     "name": "stdout",
     "output_type": "stream",
     "text": [
      "208\n"
     ]
    }
   ],
   "source": [
    "# 7.\n",
    "print(4**3+(7+5)**(1+1))"
   ]
  },
  {
   "cell_type": "code",
   "execution_count": 8,
   "id": "5fe1bfc2",
   "metadata": {},
   "outputs": [
    {
     "name": "stdout",
     "output_type": "stream",
     "text": [
      "strptime\n"
     ]
    }
   ],
   "source": [
    "# 8.\n",
    "print('strptime')"
   ]
  },
  {
   "cell_type": "code",
   "execution_count": 9,
   "id": "dd9ccd5b",
   "metadata": {},
   "outputs": [
    {
     "name": "stdout",
     "output_type": "stream",
     "text": [
      "immutable\n"
     ]
    }
   ],
   "source": [
    "# 9.\n",
    "print('immutable')"
   ]
  },
  {
   "cell_type": "code",
   "execution_count": 10,
   "id": "b551cff7",
   "metadata": {},
   "outputs": [
    {
     "name": "stdout",
     "output_type": "stream",
     "text": [
      "range()\n"
     ]
    }
   ],
   "source": [
    "# 10.\n",
    "print('range()')"
   ]
  },
  {
   "cell_type": "code",
   "execution_count": 11,
   "id": "fae680cd",
   "metadata": {},
   "outputs": [
    {
     "name": "stdout",
     "output_type": "stream",
     "text": [
      "Lambda function\n"
     ]
    }
   ],
   "source": [
    "# 11.\n",
    "print('Lambda function')"
   ]
  },
  {
   "cell_type": "code",
   "execution_count": 12,
   "id": "8f9c02d7",
   "metadata": {},
   "outputs": [
    {
     "name": "stdout",
     "output_type": "stream",
     "text": [
      "Both A and B\n"
     ]
    }
   ],
   "source": [
    "# 12.\n",
    "print('Both A and B')"
   ]
  },
  {
   "cell_type": "code",
   "execution_count": 13,
   "id": "31226d8e",
   "metadata": {},
   "outputs": [
    {
     "name": "stdout",
     "output_type": "stream",
     "text": [
      "dump() method\n"
     ]
    }
   ],
   "source": [
    "# 13.\n",
    "print('dump() method')"
   ]
  },
  {
   "cell_type": "code",
   "execution_count": 14,
   "id": "02067692",
   "metadata": {},
   "outputs": [
    {
     "name": "stdout",
     "output_type": "stream",
     "text": [
      "load() method\n"
     ]
    }
   ],
   "source": [
    "# 14.\n",
    "print('load() method')"
   ]
  },
  {
   "cell_type": "code",
   "execution_count": 15,
   "id": "d3d636b3",
   "metadata": {},
   "outputs": [
    {
     "name": "stdout",
     "output_type": "stream",
     "text": [
      "All of the mentioned above\n"
     ]
    }
   ],
   "source": [
    "# 15.\n",
    "print('All of the mentioned above')"
   ]
  },
  {
   "cell_type": "code",
   "execution_count": 16,
   "id": "a7c3b4dc",
   "metadata": {},
   "outputs": [
    {
     "name": "stdout",
     "output_type": "stream",
     "text": [
      "Ans :- both A and B\n"
     ]
    }
   ],
   "source": [
    "# 16.\n",
    "\n",
    "print('Ans :- both A and B')"
   ]
  },
  {
   "cell_type": "code",
   "execution_count": 17,
   "id": "aab27fd2",
   "metadata": {},
   "outputs": [
    {
     "name": "stdout",
     "output_type": "stream",
     "text": [
      "captains = {}\n"
     ]
    }
   ],
   "source": [
    "# 17.\n",
    "\n",
    "print('captains = {}')"
   ]
  },
  {
   "cell_type": "code",
   "execution_count": 18,
   "id": "9c45c304",
   "metadata": {},
   "outputs": [
    {
     "name": "stdout",
     "output_type": "stream",
     "text": [
      "Ans :- C\n"
     ]
    }
   ],
   "source": [
    "# 18.\n",
    "print('Ans :- C')"
   ]
  },
  {
   "cell_type": "code",
   "execution_count": 19,
   "id": "294083d6",
   "metadata": {},
   "outputs": [
    {
     "name": "stdout",
     "output_type": "stream",
     "text": [
      "Ans :- B\n"
     ]
    }
   ],
   "source": [
    "# 19.\n",
    "print('Ans :- B')"
   ]
  },
  {
   "cell_type": "code",
   "execution_count": 20,
   "id": "5020be62",
   "metadata": {},
   "outputs": [
    {
     "name": "stdout",
     "output_type": "stream",
     "text": [
      " del captains[\"Discovery\"] \n"
     ]
    }
   ],
   "source": [
    "# 20.\n",
    "print(' del captains[\"Discovery\"] ')"
   ]
  },
  {
   "cell_type": "code",
   "execution_count": null,
   "id": "d5087ae2",
   "metadata": {},
   "outputs": [],
   "source": []
  }
 ],
 "metadata": {
  "kernelspec": {
   "display_name": "Python 3 (ipykernel)",
   "language": "python",
   "name": "python3"
  },
  "language_info": {
   "codemirror_mode": {
    "name": "ipython",
    "version": 3
   },
   "file_extension": ".py",
   "mimetype": "text/x-python",
   "name": "python",
   "nbconvert_exporter": "python",
   "pygments_lexer": "ipython3",
   "version": "3.11.5"
  }
 },
 "nbformat": 4,
 "nbformat_minor": 5
}
