{
 "cells": [
  {
   "cell_type": "markdown",
   "id": "f36479de",
   "metadata": {},
   "source": [
    "# # Regular Expressions Assignment\n",
    "Question 1- Write a Python program to replace all occurrences of a space, comma, or dot with a colon.\n",
    "Sample Text- 'Python Exercises, PHP exercises.'\n",
    "Expected Output: Python:Exercises::PHP:exercises:"
   ]
  },
  {
   "cell_type": "code",
   "execution_count": 1,
   "id": "e9dddafb",
   "metadata": {},
   "outputs": [
    {
     "name": "stdout",
     "output_type": "stream",
     "text": [
      "Python:Exercises::PHP:exercises:\n"
     ]
    }
   ],
   "source": [
    "import re\n",
    "Test_string='Python Exercises, PHP exercises.'\n",
    "pattern = r\"\\s|[,.]\"\n",
    "result=re.sub(pattern,\":\",Test_string)\n",
    "print(result)\n"
   ]
  },
  {
   "cell_type": "markdown",
   "id": "68d39a8e",
   "metadata": {},
   "source": [
    "Question 2-  Create a dataframe using the dictionary below and remove everything (commas (,), !, XXXX, ;, etc.) from the columns except words.\n",
    "Dictionary- {'SUMMARY' : ['hello, world!', 'XXXXX test', '123four, five:; six...']}\n",
    "Expected output-\n",
    "0      hello world\n",
    "1             test\n",
    "2    four five six"
   ]
  },
  {
   "cell_type": "code",
   "execution_count": 2,
   "id": "2d148499",
   "metadata": {},
   "outputs": [
    {
     "name": "stdout",
     "output_type": "stream",
     "text": [
      "         SUMMARY\n",
      "0    hello world\n",
      "1           test\n",
      "2  four five six\n"
     ]
    }
   ],
   "source": [
    "import pandas as pd\n",
    "data= {'SUMMARY' : ['hello, world!', 'XXXXX test', '123four, five:; six...']}\n",
    "df = pd.DataFrame(data)\n",
    "pattern=r\"[A-Z0-9,!:;.]\"\n",
    "result=df.replace(to_replace=pattern,value=\"\",regex=True)\n",
    "print(result)"
   ]
  },
  {
   "cell_type": "markdown",
   "id": "d604881e",
   "metadata": {},
   "source": [
    "Question 3- Create a function in python to find all words that are at least 4 characters long in a string. The use of the re.compile() method is mandatory."
   ]
  },
  {
   "cell_type": "code",
   "execution_count": 3,
   "id": "74e0e1c5",
   "metadata": {},
   "outputs": [
    {
     "name": "stdout",
     "output_type": "stream",
     "text": [
      "['python', 'find', 'words', 'that', 'least', 'characters']\n"
     ]
    }
   ],
   "source": [
    "Test_string= \"python to find all words that are at least 4 characters\"\n",
    "pattern=r\"\\w{4,}\"\n",
    "regex_pattern=re.compile(pattern)\n",
    "result=regex_pattern.findall(Test_string)\n",
    "print(result)"
   ]
  },
  {
   "cell_type": "markdown",
   "id": "4277c973",
   "metadata": {},
   "source": [
    "Question 4- Create a function in python to find all three, four, and five character words in a string. The use of the re.compile() method is mandatory."
   ]
  },
  {
   "cell_type": "code",
   "execution_count": 4,
   "id": "6f4aff8d",
   "metadata": {},
   "outputs": [
    {
     "name": "stdout",
     "output_type": "stream",
     "text": [
      "['find', 'all', 'words', 'that', 'are', 'least']\n"
     ]
    }
   ],
   "source": [
    "Test_string= \"python to find all words that are at least 4 characters\"\n",
    "str_pattern=r\"\\b\\w{3,5}\\b\"\n",
    "regex_pattern1=re.compile(str_pattern)\n",
    "result=regex_pattern1.findall(Test_string)\n",
    "print(result)"
   ]
  },
  {
   "cell_type": "markdown",
   "id": "0ca612c3",
   "metadata": {},
   "source": [
    "Question 5- Create a function in Python to remove the parenthesis in a list of strings. The use of the re.compile() method is mandatory.\n",
    "Sample Text: [\"example (.com)\", \"hr@fliprobo (.com)\", \"github (.com)\", \"Hello (Data Science World)\", \"Data (Scientist)\"]\n",
    "Expected Output:\n",
    "example.com\n",
    "hr@fliprobo.com\n",
    "github.com\n",
    "Hello Data Science World\n",
    "Data Scientist"
   ]
  },
  {
   "cell_type": "code",
   "execution_count": 5,
   "id": "33df8ce0",
   "metadata": {},
   "outputs": [
    {
     "name": "stdout",
     "output_type": "stream",
     "text": [
      "example .com\n",
      "hr@fliprobo .com\n",
      "github .com\n",
      "Hello Data Science World\n",
      "Data Scientist\n"
     ]
    }
   ],
   "source": [
    "Test_string= [\"example (.com)\", \"hr@fliprobo (.com)\", \"github (.com)\", \"Hello (Data Science World)\", \"Data (Scientist)\"]\n",
    "str_pattern=r\"[()]\"\n",
    "regex_pattern2=re.compile(str_pattern)\n",
    "for unwanted in Test_string:\n",
    "    result=re.sub(regex_pattern2,\"\",unwanted)\n",
    "    print(result)"
   ]
  },
  {
   "cell_type": "markdown",
   "id": "6a0ba327",
   "metadata": {},
   "source": [
    "Question 6- Write a python program to remove the parenthesis area from the text stored in the text file using Regular Expression.\n",
    "Sample Text: [\"example (.com)\", \"hr@fliprobo (.com)\", \"github (.com)\", \"Hello (Data Science World)\", \"Data (Scientist)\"]\n",
    "Expected Output: [\"example\", \"hr@fliprobo\", \"github\", \"Hello\", \"Data\"]\n",
    "Note- Store given sample text in the text file and then to remove the parenthesis area from the text."
   ]
  },
  {
   "cell_type": "code",
   "execution_count": 6,
   "id": "13610327",
   "metadata": {},
   "outputs": [
    {
     "name": "stdout",
     "output_type": "stream",
     "text": [
      "['example', 'hr@fliprobo', 'github', 'Hello', 'Data', '']\n"
     ]
    }
   ],
   "source": [
    "import re\n",
    "Text_file = open(\"myfile.txt\", \"w\")\n",
    "L = [\"example (.com)\", \"hr@fliprobo (.com)\", \"github (.com)\", \"Hello (Data Science World)\", \"Data (Scientist)\"]\n",
    " \n",
    "Text_file.writelines(L)\n",
    "Text_file.close() \n",
    " \n",
    "Text_file = open(\"myfile.txt\", \"r+\")\n",
    "read_file = Text_file.read()\n",
    "str_pattern=r\" ?\\([^)]+\\)\"\n",
    "result=re.sub(str_pattern,\" \",read_file)\n",
    "print(result.split(\" \"))"
   ]
  },
  {
   "cell_type": "markdown",
   "id": "293e6b06",
   "metadata": {},
   "source": [
    "Question 7- Write a regular expression in Python to split a string into uppercase letters.\n",
    "Sample text: “ImportanceOfRegularExpressionsInPython”\n",
    "Expected Output: [‘Importance’, ‘Of’, ‘Regular’, ‘Expression’, ‘In’, ‘Python’]"
   ]
  },
  {
   "cell_type": "code",
   "execution_count": 7,
   "id": "41aa1ddc",
   "metadata": {},
   "outputs": [
    {
     "name": "stdout",
     "output_type": "stream",
     "text": [
      "['Importance', 'Of', 'Regular', 'Expressions', 'In', 'Python']\n"
     ]
    }
   ],
   "source": [
    "import re\n",
    "Test_string=\"ImportanceOfRegularExpressionsInPython\"\n",
    "result=re.findall('.[^A-Z]*', Test_string)\n",
    "print(result)"
   ]
  },
  {
   "cell_type": "markdown",
   "id": "6ac0a838",
   "metadata": {},
   "source": [
    "Question 8- Create a function in python to insert spaces between words starting with numbers.\n",
    "Sample Text: “RegularExpression1IsAn2ImportantTopic3InPython\"\n",
    "Expected Output: RegularExpression 1IsAn 2ImportantTopic 3InPython"
   ]
  },
  {
   "cell_type": "code",
   "execution_count": 8,
   "id": "c0e83083",
   "metadata": {},
   "outputs": [
    {
     "name": "stdout",
     "output_type": "stream",
     "text": [
      "RegularExpression 1IsAn 2ImportantTopic 3InPython\n"
     ]
    }
   ],
   "source": [
    "import re\n",
    "Test_string=\"RegularExpression1IsAn2ImportantTopic3InPython\"\n",
    "result = re.sub(r'(\\d+)',r' \\1', Test_string)\n",
    "print(result)"
   ]
  },
  {
   "cell_type": "markdown",
   "id": "54934a2f",
   "metadata": {},
   "source": [
    "Question 9- Create a function in python to insert spaces between words starting with capital letters or with numbers.\n",
    "Sample Text: “RegularExpression1IsAn2ImportantTopic3InPython\"\n",
    "Expected Output:  RegularExpression 1 IsAn 2 ImportantTopic 3 InPython"
   ]
  },
  {
   "cell_type": "code",
   "execution_count": 9,
   "id": "1f62f2d7",
   "metadata": {},
   "outputs": [
    {
     "name": "stdout",
     "output_type": "stream",
     "text": [
      "RegularExpression 1 IsAn 2 ImportantTopic 3 InPython\n"
     ]
    }
   ],
   "source": [
    "import re\n",
    "Test_string=\"RegularExpression1IsAn2ImportantTopic3InPython\"\n",
    "result = re.sub('(\\d+)', r' \\1 ', Test_string)\n",
    "print(result)"
   ]
  },
  {
   "cell_type": "markdown",
   "id": "44a4a40f",
   "metadata": {},
   "source": [
    " Question 10- Use the github link below to read the data and create a dataframe. After creating the \n",
    "dataframe extract the first 6 letters of each country and store in the dataframe under a new column \n",
    "called first_five_letters."
   ]
  },
  {
   "cell_type": "code",
   "execution_count": 10,
   "id": "12fbed3f",
   "metadata": {},
   "outputs": [
    {
     "name": "stdout",
     "output_type": "stream",
     "text": [
      "       Country          Region  Happiness Rank  Happiness Score  \\\n",
      "0  Switzerland  Western Europe               1            7.587   \n",
      "1      Iceland  Western Europe               2            7.561   \n",
      "2      Denmark  Western Europe               3            7.527   \n",
      "3       Norway  Western Europe               4            7.522   \n",
      "4       Canada   North America               5            7.427   \n",
      "\n",
      "   Standard Error  Economy (GDP per Capita)   Family  \\\n",
      "0         0.03411                   1.39651  1.34951   \n",
      "1         0.04884                   1.30232  1.40223   \n",
      "2         0.03328                   1.32548  1.36058   \n",
      "3         0.03880                   1.45900  1.33095   \n",
      "4         0.03553                   1.32629  1.32261   \n",
      "\n",
      "   Health (Life Expectancy)  Freedom  Trust (Government Corruption)  \\\n",
      "0                   0.94143  0.66557                        0.41978   \n",
      "1                   0.94784  0.62877                        0.14145   \n",
      "2                   0.87464  0.64938                        0.48357   \n",
      "3                   0.88521  0.66973                        0.36503   \n",
      "4                   0.90563  0.63297                        0.32957   \n",
      "\n",
      "   Generosity  Dystopia Residual first_five_letters  \n",
      "0     0.29678            2.51738             Switze  \n",
      "1     0.43630            2.70201             Icelan  \n",
      "2     0.34139            2.49204             Denmar  \n",
      "3     0.34699            2.46531             Norway  \n",
      "4     0.45811            2.45176             Canada  \n"
     ]
    }
   ],
   "source": [
    "import pandas as pd\n",
    "url = \"https://raw.githubusercontent.com/dsrscientist/DSData/master/happiness_score_dataset.csv\"\n",
    "df = pd.read_csv(url)\n",
    "df['first_five_letters'] = df['Country'].apply(lambda x: x[:6])\n",
    "print(df.head())"
   ]
  },
  {
   "cell_type": "markdown",
   "id": "41b0aa91",
   "metadata": {},
   "source": [
    "Question 11- Write a Python program to match a string that contains only upper and lowercase \n",
    "letters, numbers, and underscores."
   ]
  },
  {
   "cell_type": "code",
   "execution_count": 11,
   "id": "c2b0d224",
   "metadata": {},
   "outputs": [
    {
     "name": "stdout",
     "output_type": "stream",
     "text": [
      "Not matched!\n",
      "Found a match!\n"
     ]
    }
   ],
   "source": [
    "import re\n",
    "def text_match(text):\n",
    "        patterns = '^[\\w]*$'\n",
    "        if re.search(patterns,  text):\n",
    "                return 'Found a match!'\n",
    "        else:\n",
    "                return('Not matched!')\n",
    "\n",
    "print(text_match(\"The quick brown fox jumps over the lazy dog.\"))\n",
    "print(text_match(\"Python_Exercises_1\"))"
   ]
  },
  {
   "cell_type": "markdown",
   "id": "045e4a84",
   "metadata": {},
   "source": [
    " Question 12- Write a Python program where a string will start with a specific number."
   ]
  },
  {
   "cell_type": "code",
   "execution_count": 12,
   "id": "95b18395",
   "metadata": {},
   "outputs": [
    {
     "name": "stdout",
     "output_type": "stream",
     "text": [
      "True\n",
      "False\n"
     ]
    }
   ],
   "source": [
    "import re\n",
    "def match_num(string):\n",
    "    text = re.compile(r\"^523\")\n",
    "    if text.match(string):\n",
    "        return True\n",
    "    else:\n",
    "        return False\n",
    "print(match_num('52345861'))\n",
    "print(match_num('62345861'))"
   ]
  },
  {
   "cell_type": "markdown",
   "id": "2b736303",
   "metadata": {},
   "source": [
    "Question 13- Write a Python program to remove leading zeros from an IP address"
   ]
  },
  {
   "cell_type": "code",
   "execution_count": 13,
   "id": "0e17a103",
   "metadata": {},
   "outputs": [
    {
     "name": "stdout",
     "output_type": "stream",
     "text": [
      "216.8.94.196\n"
     ]
    }
   ],
   "source": [
    "import re\n",
    "Test_string = \"216.08.094.196\"\n",
    "result = re.sub('\\.[0]*', '.', Test_string)\n",
    "print(result)"
   ]
  },
  {
   "cell_type": "markdown",
   "id": "9fec772b",
   "metadata": {},
   "source": [
    " Question 14- Write a regular expression in python to match a date string in the form of Month name \n",
    "followed by day number and year stored in a text file.\n",
    " Sample text :  ' On August 15th 1947 that India was declared independent from British colonialism, and \n",
    "the reins of control were handed over to the leaders of the Country’.\n",
    " Expected Output- August 15th 1947"
   ]
  },
  {
   "cell_type": "code",
   "execution_count": 14,
   "id": "7c7cff72",
   "metadata": {},
   "outputs": [
    {
     "name": "stdout",
     "output_type": "stream",
     "text": [
      "['August 15th 1947']\n"
     ]
    }
   ],
   "source": [
    "import re\n",
    "\n",
    "text = \"On August 15th 1947 that India was declared independent from British colonialism, and the reins of control were handed over to the leaders of the Country.\"\n",
    "\n",
    "pattern = r\"\\b[A-Z][a-z]+ \\d{1,2}(?:st|nd|rd|th)? \\d{4}\\b\"\n",
    "\n",
    "matches = re.findall(pattern, text)\n",
    "print(matches)"
   ]
  },
  {
   "cell_type": "markdown",
   "id": "0d68885b",
   "metadata": {},
   "source": [
    "Question 15- Write a Python program to search some literals strings in a string. \n",
    "Sample text : 'The quick brown fox jumps over the lazy dog.'\n",
    " Searched words : 'fox', 'dog', 'horse'"
   ]
  },
  {
   "cell_type": "code",
   "execution_count": 15,
   "id": "b127d308",
   "metadata": {},
   "outputs": [
    {
     "name": "stdout",
     "output_type": "stream",
     "text": [
      "Searching for \"fox\" in \"The quick brown fox jumps over the lazy dog.\" ->\n",
      "Matched!\n",
      "Searching for \"dog\" in \"The quick brown fox jumps over the lazy dog.\" ->\n",
      "Matched!\n",
      "Searching for \"horse\" in \"The quick brown fox jumps over the lazy dog.\" ->\n",
      "Not Matched!\n"
     ]
    }
   ],
   "source": [
    "import re\n",
    "patterns = [ 'fox', 'dog', 'horse' ]\n",
    "Test_string = 'The quick brown fox jumps over the lazy dog.'\n",
    "for pattern in patterns:\n",
    "    print('Searching for \"%s\" in \"%s\" ->' % (pattern, Test_string),)\n",
    "    if re.search(pattern,  Test_string):\n",
    "        print('Matched!')\n",
    "    else:\n",
    "        print('Not Matched!')"
   ]
  },
  {
   "cell_type": "markdown",
   "id": "1698e219",
   "metadata": {},
   "source": [
    "Question 16- Write a Python program to search a literals string in a string and also find the location \n",
    "within the original string where the pattern occurs\n",
    " Sample text : 'The quick brown fox jumps over the lazy dog.'\n",
    " Searched words : 'fox'"
   ]
  },
  {
   "cell_type": "code",
   "execution_count": 16,
   "id": "007efe6f",
   "metadata": {},
   "outputs": [
    {
     "name": "stdout",
     "output_type": "stream",
     "text": [
      "Found \"fox\" in \"The quick brown fox jumps over the lazy dog.\" from 16 to 19 \n"
     ]
    }
   ],
   "source": [
    "import re\n",
    "pattern = 'fox'\n",
    "Test_string = 'The quick brown fox jumps over the lazy dog.'\n",
    "match = re.search(pattern, Test_string)\n",
    "s = match.start()\n",
    "e = match.end()\n",
    "print('Found \"%s\" in \"%s\" from %d to %d ' % \\\n",
    "    (match.re.pattern, match.string, s, e))"
   ]
  },
  {
   "cell_type": "markdown",
   "id": "569de26f",
   "metadata": {},
   "source": [
    " Question 17- Write a Python program to find the substrings within a string.\n",
    " Sample text : 'Python exercises, PHP exercises, C# exercises'\n",
    " Pattern : 'exercises'."
   ]
  },
  {
   "cell_type": "code",
   "execution_count": 17,
   "id": "ed049c4b",
   "metadata": {},
   "outputs": [
    {
     "name": "stdout",
     "output_type": "stream",
     "text": [
      "Found \"exercises\"\n",
      "Found \"exercises\"\n",
      "Found \"exercises\"\n"
     ]
    }
   ],
   "source": [
    "import re\n",
    "Test_string = 'Python exercises, PHP exercises, C# exercises'\n",
    "pattern = 'exercises'\n",
    "for match in re.findall(pattern, Test_string):\n",
    "    print('Found \"%s\"' % match)"
   ]
  },
  {
   "cell_type": "markdown",
   "id": "0fa6f895",
   "metadata": {},
   "source": [
    "Question 18- Write a Python program to find the occurrence and position of the substrings within a \n",
    "string.\n"
   ]
  },
  {
   "cell_type": "code",
   "execution_count": 18,
   "id": "f665844d",
   "metadata": {},
   "outputs": [
    {
     "name": "stdout",
     "output_type": "stream",
     "text": [
      "Found \"exercises\" at 7:16\n",
      "Found \"exercises\" at 22:31\n",
      "Found \"exercises\" at 36:45\n"
     ]
    }
   ],
   "source": [
    "import re\n",
    "Test_string = 'Python exercises, PHP exercises, C# exercises'\n",
    "pattern = 'exercises'\n",
    "for match in re.finditer(pattern, Test_string):\n",
    "    s = match.start()\n",
    "    e = match.end()\n",
    "    print('Found \"%s\" at %d:%d' % (Test_string[s:e], s, e))\n"
   ]
  },
  {
   "cell_type": "markdown",
   "id": "725d6860",
   "metadata": {},
   "source": [
    "Question 19- Write a Python program to convert a date of yyyy-mm-dd format to dd-mm-yyyy \n",
    "format."
   ]
  },
  {
   "cell_type": "code",
   "execution_count": 19,
   "id": "e3ae1a6f",
   "metadata": {},
   "outputs": [
    {
     "name": "stdout",
     "output_type": "stream",
     "text": [
      "Original date in YYY-MM-DD Format:  2026-01-02\n",
      "New date in DD-MM-YYYY Format:  02-01-2026\n"
     ]
    }
   ],
   "source": [
    "import re\n",
    "def change_date_format(dt):\n",
    "        return re.sub(r'(\\d{4})-(\\d{1,2})-(\\d{1,2})', '\\\\3-\\\\2-\\\\1', dt)\n",
    "dt1 = \"2026-01-02\"\n",
    "print(\"Original date in YYY-MM-DD Format: \",dt1)\n",
    "print(\"New date in DD-MM-YYYY Format: \",change_date_format(dt1))"
   ]
  },
  {
   "cell_type": "markdown",
   "id": "5cbd7cc9",
   "metadata": {},
   "source": [
    "Question 20- Create a function in python to find all decimal numbers with a precision of 1 or 2 in a \n",
    "string. The use of the re.compile() method is mandatory.\n",
    " Sample Text: \"01.12 0132.123 2.31875 145.8 3.01 27.25 0.25\"\n",
    " Expected Output: ['01.12', '145.8', '3.01', '27.25', '0.25']"
   ]
  },
  {
   "cell_type": "code",
   "execution_count": 20,
   "id": "7b348ded",
   "metadata": {},
   "outputs": [
    {
     "name": "stdout",
     "output_type": "stream",
     "text": [
      "['01.12', '145.8', '3.01', '27.25', '0.25']\n"
     ]
    }
   ],
   "source": [
    "def find_decimal_numbers(string):\n",
    "    pattern = re.compile(r'\\b\\d+\\.\\d{1,2}\\b')\n",
    "    decimal_numbers = re.findall(pattern, string)\n",
    "    return decimal_numbers\n",
    "sample_text = \"01.12 0132.123 2.31875 145.8 3.01 27.25 0.25\"\n",
    "output = find_decimal_numbers(sample_text)\n",
    "print(output)"
   ]
  },
  {
   "cell_type": "markdown",
   "id": "2e5b5871",
   "metadata": {},
   "source": [
    " Question 21- Write a Python program to separate and print the numbers and their position of a \n",
    "given string."
   ]
  },
  {
   "cell_type": "code",
   "execution_count": 21,
   "id": "4f6a1329",
   "metadata": {},
   "outputs": [
    {
     "name": "stdout",
     "output_type": "stream",
     "text": [
      "50\n",
      "Index position: 62\n"
     ]
    }
   ],
   "source": [
    "import re\n",
    "Test_string = \"The following example creates an ArrayList with a capacity of 50 elements. Four elements are then added to the ArrayList and the ArrayList is trimmed accordingly.\"\n",
    "for m in re.finditer(\"\\d+\", Test_string):\n",
    "    print(m.group(0))\n",
    "    print(\"Index position:\", m.start())"
   ]
  },
  {
   "cell_type": "markdown",
   "id": "b9647745",
   "metadata": {},
   "source": [
    "Question 22- Write a regular expression in python program to extract maximum/largest numeric \n",
    "value from a string.\n",
    " Sample Text:  'My marks in each semester are: 947, 896, 926, 524, 734, 950, 642'\n",
    " Expected Output: 950"
   ]
  },
  {
   "cell_type": "code",
   "execution_count": 22,
   "id": "16e565d0",
   "metadata": {},
   "outputs": [
    {
     "name": "stdout",
     "output_type": "stream",
     "text": [
      "950\n"
     ]
    }
   ],
   "source": [
    "import re\n",
    "Test_string='My marks in each semester are: 947, 896, 926, 524, 734, 950, 642'\n",
    "numbers=re.findall('\\d+',Test_string)\n",
    "print(max(map(int,numbers)))"
   ]
  },
  {
   "cell_type": "markdown",
   "id": "e47a0620",
   "metadata": {},
   "source": [
    " Question 23- Create a function in python to insert spaces between words starting with capital \n",
    "letters.\n",
    " Sample Text: “RegularExpressionIsAnImportantTopicInPython\"\n",
    " Expected Output: Regular Expression Is An Important Topic In Python"
   ]
  },
  {
   "cell_type": "code",
   "execution_count": 23,
   "id": "5bd044d5",
   "metadata": {},
   "outputs": [
    {
     "name": "stdout",
     "output_type": "stream",
     "text": [
      "Regular Expression Is An Important Topic In Python\n"
     ]
    }
   ],
   "source": [
    "import re \n",
    "Test_string = \"RegularExpressionIsAnImportantTopicInPython\"\n",
    "def addSpace(input):  \n",
    "    result = re.findall('[A-Z][a-z]*', Test_string) \n",
    "    for i in range(0,len(result)):\n",
    "      result[i]=result[i][0:]\n",
    "    print(' '.join(result))\n",
    "addSpace(Test_string)"
   ]
  },
  {
   "cell_type": "markdown",
   "id": "fe087b4d",
   "metadata": {},
   "source": [
    "Question 24- Python regex to find sequences of one upper case letter followed by lower case letters"
   ]
  },
  {
   "cell_type": "code",
   "execution_count": 24,
   "id": "464bbf3a",
   "metadata": {},
   "outputs": [
    {
     "name": "stdout",
     "output_type": "stream",
     "text": [
      "Found a match!\n",
      "Not matched!\n"
     ]
    }
   ],
   "source": [
    "import re\n",
    "def text_match(text):\n",
    "        patterns = '[A-Z]+[a-z]+$'\n",
    "        if re.search(patterns, text):\n",
    "                return 'Found a match!'\n",
    "        else:\n",
    "                return('Not matched!')\n",
    "print(text_match(\"AaBbGg\"))\n",
    "print(text_match(\"python\"))"
   ]
  },
  {
   "cell_type": "markdown",
   "id": "d3bd3379",
   "metadata": {},
   "source": [
    " Question 25- Write a Python program to remove continuous duplicate words from Sentence using \n",
    "Regular Expression.\n",
    " Sample Text: \"Hello hello world world\"\n",
    " Expected Output: Hello hello world\n"
   ]
  },
  {
   "cell_type": "code",
   "execution_count": 25,
   "id": "622f8485",
   "metadata": {},
   "outputs": [
    {
     "name": "stdout",
     "output_type": "stream",
     "text": [
      "Hello hello world\n"
     ]
    }
   ],
   "source": [
    "Test_string = 'Hello hello world world'\n",
    "regex = \"\\\\b(\\\\w+)(?:\\\\W+\\\\1\\\\b)+\"\n",
    "result = re.sub(regex, r'\\1', Test_string)\n",
    "print(result)"
   ]
  },
  {
   "cell_type": "markdown",
   "id": "bb7d4728",
   "metadata": {},
   "source": [
    "Question 26-  Write a python program using RegEx to accept string ending with alphanumeric \n",
    "character"
   ]
  },
  {
   "cell_type": "code",
   "execution_count": 26,
   "id": "4db10ba0",
   "metadata": {},
   "outputs": [
    {
     "name": "stdout",
     "output_type": "stream",
     "text": [
      "Accept\n"
     ]
    }
   ],
   "source": [
    "import re\n",
    "Test_string = 'Hello_hello0world7world'\n",
    "regex = '[a-zA-z0-9]$'\n",
    "if(re.findall(regex,Test_string)):\n",
    "    print(\"Accept\")\n",
    "else:\n",
    "    print(\"reject\")"
   ]
  },
  {
   "cell_type": "markdown",
   "id": "6953153e",
   "metadata": {},
   "source": [
    " Question 27-Write a python program using RegEx to extract the hashtags.\n",
    " Sample Text:  \"\"\"RT @kapil_kausik: #Doltiwal I mean #xyzabc is \"hurt\" by #Demonetization as the same \n",
    "has rendered USELESS <ed><U+00A0><U+00BD><ed><U+00B1><U+0089> \"acquired funds\" No wo\"\"\"\n",
    " Expected Output: ['#Doltiwal', '#xyzabc', '#Demonetization']"
   ]
  },
  {
   "cell_type": "code",
   "execution_count": 27,
   "id": "98d7a9e7",
   "metadata": {},
   "outputs": [],
   "source": [
    "import re \n",
    "Test_string = \"\"\"RT @kapil_kausik: #Doltiwal I mean #xyzabc is \"hurt\" by #Demonetization as the same has rendered USELESS <ed><U+00A0><U+00BD><ed><U+00B1><U+0089> \"acquired funds\" No wo\"\"\"\n",
    "result = re.findall('#[a-zA-Z]+',Test_string)"
   ]
  },
  {
   "cell_type": "markdown",
   "id": "31f5e8c9",
   "metadata": {},
   "source": [
    " Question 28- Write a python program using RegEx to remove <U+..> like symbols\n",
    " Check the below sample text, there are strange symbols something of the sort <U+..> all over the place. \n",
    "You need to come up with a general Regex expression that will cover all such symbols.\n",
    " Sample Text: \"@Jags123456 Bharat band on \n",
    "28??<ed><U+00A0><U+00BD><ed><U+00B8><U+0082>Those who  are protesting #demonetization  are \n",
    "all different party leaders\"\n",
    " Expected Output: @Jags123456 Bharat band on 28??<ed><ed>Those who  are protesting \n",
    "#demonetization  are all different party leaders"
   ]
  },
  {
   "cell_type": "code",
   "execution_count": 28,
   "id": "bc8426fa",
   "metadata": {},
   "outputs": [
    {
     "name": "stdout",
     "output_type": "stream",
     "text": [
      "@Jags123456 Bharat band on 28??<ed><ed>Those who  are protesting #demonetization  are all different party leaders\n"
     ]
    }
   ],
   "source": [
    "import re\n",
    "Test_string = \"@Jags123456 Bharat band on 28??<ed><U+00A0><U+00BD><ed><U+00B8><U+0082>Those who  are protesting #demonetization  are all different party leaders\"\n",
    "result = re.sub(r\"<U\\+\\w{4}>\",\"\",Test_string)\n",
    "print(result)"
   ]
  },
  {
   "cell_type": "markdown",
   "id": "94aa6978",
   "metadata": {},
   "source": [
    " Question 29- Write a python program to extract dates from the text stored in the text file.\n",
    " Sample Text: Ron was born on 12-09-1992 and he was admitted to school 15-12-1999.\n",
    " Note- Store this sample text in the file and then extract dates."
   ]
  },
  {
   "cell_type": "code",
   "execution_count": 29,
   "id": "ce4ea867",
   "metadata": {},
   "outputs": [
    {
     "name": "stdout",
     "output_type": "stream",
     "text": [
      "['12-09-1992', '15-12-1999']\n"
     ]
    }
   ],
   "source": [
    "import re\n",
    "file1 = open(\"myfile.txt\", \"w\")\n",
    "L = \"Ron was born on 12-09-1992 and he was admitted to school 15-12-1999.\"\n",
    " \n",
    "file1.writelines(L)\n",
    "file1.close() \n",
    " \n",
    "file1 = open(\"myfile.txt\", \"r+\")\n",
    " \n",
    "read_file = file1.read()\n",
    "str_pattern=r'\\d+[-]\\d+[-]\\d+'\n",
    "result=re.findall(str_pattern,read_file)\n",
    "print(result)"
   ]
  },
  {
   "cell_type": "markdown",
   "id": "d78b6443",
   "metadata": {},
   "source": [
    " Question 30- Create a function in python to remove all words from a string of length between 2 and \n",
    "4.\n",
    " The use of the re.compile() method is mandatory.\n",
    " Sample Text: \"The following example creates an ArrayList with a capacity of 50 elements. 4 elements \n",
    "are then added to the ArrayList and the ArrayList is trimmed accordingly.\"\n",
    " Expected Output:  following example creates ArrayList a capacity elements. 4 elements added ArrayList \n",
    "ArrayList trimmed accordingly"
   ]
  },
  {
   "cell_type": "code",
   "execution_count": 30,
   "id": "e404a3fe",
   "metadata": {},
   "outputs": [
    {
     "name": "stdout",
     "output_type": "stream",
     "text": [
      " following example creates ArrayList a capacity elements. 4 elements added ArrayList ArrayList trimmed accordingly.\n"
     ]
    }
   ],
   "source": [
    "import re\n",
    "Test_string = \"The following example creates an ArrayList with a capacity of 50 elements. 4 elements are then added to the ArrayList and the ArrayList is trimmed accordingly.\"\n",
    "result = re.compile(r'\\W*\\b\\w{2,4}\\b')\n",
    "print(result.sub('', Test_string))\n"
   ]
  }
 ],
 "metadata": {
  "kernelspec": {
   "display_name": "Python 3 (ipykernel)",
   "language": "python",
   "name": "python3"
  },
  "language_info": {
   "codemirror_mode": {
    "name": "ipython",
    "version": 3
   },
   "file_extension": ".py",
   "mimetype": "text/x-python",
   "name": "python",
   "nbconvert_exporter": "python",
   "pygments_lexer": "ipython3",
   "version": "3.11.5"
  }
 },
 "nbformat": 4,
 "nbformat_minor": 5
}
